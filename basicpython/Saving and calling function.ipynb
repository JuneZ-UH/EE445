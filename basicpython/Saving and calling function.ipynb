{
 "cells": [
  {
   "cell_type": "markdown",
   "metadata": {},
   "source": [
    "Suppose I want to use jupyter notebook to write my own function:"
   ]
  },
  {
   "cell_type": "code",
   "execution_count": 1,
   "metadata": {},
   "outputs": [],
   "source": [
    "def first_func(x):\n",
    "    y = x + 50\n",
    "    return"
   ]
  },
  {
   "cell_type": "markdown",
   "metadata": {},
   "source": [
    "But I want to save it in a separate file and then import it into this notebook file. One reason you might want to do this is to keep your notebook relatively short. It makes it easier to read and faster to run.\n",
    "\n",
    "However, if I just go and do File->Download As->Python, it will generate a .py file. But it **won't** be a clearn .py file with just the function definition. It will contain alot of extra code because its really saving a jupyter notebook file.\n",
    "\n",
    "So if I try to import that .py file, I will get an error."
   ]
  },
  {
   "cell_type": "markdown",
   "metadata": {},
   "source": [
    "To save any function (or multiple functions) into its own .py file, use %%writefile. The command %%writefile will write everything in that cell to is own .py file "
   ]
  },
  {
   "cell_type": "code",
   "execution_count": 4,
   "metadata": {},
   "outputs": [
    {
     "name": "stdout",
     "output_type": "stream",
     "text": [
      "Writing file_name2.py\n"
     ]
    }
   ],
   "source": [
    "%%writefile file_name2.py\n",
    "\n",
    "def this_func(x):\n",
    "    y = x+50\n",
    "    return y\n",
    "\n",
    "def that_func(x):\n",
    "    y = x-50\n",
    "    return y"
   ]
  },
  {
   "cell_type": "markdown",
   "metadata": {},
   "source": [
    "This will generate a .py file that contains on the function definitions. This functions can be loaded into any python notebook using the **import** command. (I'm not importing file_name2.py because I just defined it above)"
   ]
  },
  {
   "cell_type": "code",
   "execution_count": 5,
   "metadata": {
    "scrolled": true
   },
   "outputs": [
    {
     "data": {
      "text/plain": [
       "70"
      ]
     },
     "metadata": {},
     "output_type": "display_data"
    },
    {
     "data": {
      "text/plain": [
       "-30"
      ]
     },
     "metadata": {},
     "output_type": "display_data"
    }
   ],
   "source": [
    "import file_name as fn\n",
    "display(fn.this_func(20))\n",
    "display(fn.that_func(20))"
   ]
  }
 ],
 "metadata": {
  "kernelspec": {
   "display_name": "Python 3",
   "language": "python",
   "name": "python3"
  },
  "language_info": {
   "codemirror_mode": {
    "name": "ipython",
    "version": 3
   },
   "file_extension": ".py",
   "mimetype": "text/x-python",
   "name": "python",
   "nbconvert_exporter": "python",
   "pygments_lexer": "ipython3",
   "version": "3.8.5"
  }
 },
 "nbformat": 4,
 "nbformat_minor": 4
}
