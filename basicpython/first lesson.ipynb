{
 "cells": [
  {
   "cell_type": "code",
   "execution_count": 1,
   "metadata": {
    "scrolled": true
   },
   "outputs": [],
   "source": [
    "import matplotlib.pyplot as plt\n",
    "from sklearn import datasets\n",
    "import pandas as pd\n",
    "import numpy as np\n",
    "from sklearn.linear_model import Perceptron"
   ]
  },
  {
   "cell_type": "markdown",
   "metadata": {},
   "source": [
    "###  generate data set"
   ]
  },
  {
   "cell_type": "markdown",
   "metadata": {},
   "source": [
    "# Generate data set"
   ]
  },
  {
   "cell_type": "code",
   "execution_count": 2,
   "metadata": {},
   "outputs": [
    {
     "data": {
      "image/png": "[encoded data removed]",
      "text/plain": [
       "<Figure size 432x288 with 1 Axes>"
      ]
     },
     "metadata": {
      "needs_background": "light"
     },
     "output_type": "display_data"
    },
    {
     "data": {
      "text/plain": [
       "array([[ 8.94189666,  4.07090016],\n",
       "       [ 8.09963485,  8.31168206],\n",
       "       [ 9.33937878,  6.10696651],\n",
       "       [10.13585361,  5.39351467],\n",
       "       [ 8.31264287,  8.5681905 ],\n",
       "       [10.95625762,  5.29209933],\n",
       "       [ 9.32269829,  4.35443499],\n",
       "       [ 9.090499  ,  7.27469354],\n",
       "       [ 9.56629381,  9.46842952],\n",
       "       [ 9.67161481,  0.86197702],\n",
       "       [10.32300517,  4.54972181],\n",
       "       [ 9.14219604,  4.28533639],\n",
       "       [ 8.51520839,  6.47143058],\n",
       "       [ 7.18477043,  4.12125485],\n",
       "       [ 9.48988381,  6.06248676],\n",
       "       [ 8.1182398 ,  8.24280527],\n",
       "       [ 7.16924284, 10.32206997],\n",
       "       [ 7.87302459,  5.83428267],\n",
       "       [ 9.35139046,  5.10196766],\n",
       "       [ 9.57645965,  8.08668942],\n",
       "       [ 9.05961872,  5.96840771],\n",
       "       [ 6.9416786 ,  6.44686848],\n",
       "       [ 8.73983637,  7.27636339],\n",
       "       [ 7.61330133,  4.41846965],\n",
       "       [ 7.69471815,  8.50751908],\n",
       "       [10.04202695,  3.37738223],\n",
       "       [ 8.72239092,  6.48444031],\n",
       "       [ 8.73051108,  7.87333334],\n",
       "       [ 9.83678461,  2.92071385],\n",
       "       [ 9.87142076,  4.55876217],\n",
       "       [ 8.67091261,  5.18456646],\n",
       "       [ 7.64156131,  3.46301232],\n",
       "       [ 9.98238583,  4.29906409],\n",
       "       [11.11327407,  4.50397529],\n",
       "       [ 7.73983946,  4.75979997],\n",
       "       [ 8.82176996,  5.18046987],\n",
       "       [ 9.28123135,  9.49677141],\n",
       "       [ 8.88919384,  8.31186826],\n",
       "       [ 9.21813856,  6.68365184],\n",
       "       [ 8.16731966,  8.08380467],\n",
       "       [ 9.85122007,  5.72568788],\n",
       "       [ 8.06564293,  4.76089339],\n",
       "       [ 7.6962668 ,  8.77693875],\n",
       "       [ 8.58536633,  8.20020503],\n",
       "       [10.78048775,  8.60001736],\n",
       "       [ 9.08030306,  7.71092549],\n",
       "       [10.66624345,  6.7918439 ],\n",
       "       [ 8.64730554,  4.6935305 ],\n",
       "       [ 8.81712858,  5.59120071],\n",
       "       [ 9.874125  ,  6.82194981],\n",
       "       [ 7.52321593,  4.67782328],\n",
       "       [ 9.1012186 ,  7.78908012],\n",
       "       [ 8.20171555,  5.31887401],\n",
       "       [ 9.87934266,  8.29564371],\n",
       "       [ 8.77397829,  7.6900457 ],\n",
       "       [ 9.29845457,  3.83183491],\n",
       "       [10.17693302,  3.24484611],\n",
       "       [ 8.08112136,  9.43726968],\n",
       "       [ 8.84823469,  3.64807387],\n",
       "       [ 9.80951163,  5.16748066],\n",
       "       [ 8.97076272,  8.96374898],\n",
       "       [ 8.40685146,  4.96640812],\n",
       "       [ 9.1404056 ,  7.74408525],\n",
       "       [ 8.16008878,  6.18460774],\n",
       "       [ 9.52015759,  7.35188381],\n",
       "       [10.72739287,  3.91615613],\n",
       "       [ 8.96599438,  2.83141446],\n",
       "       [ 7.46239686,  8.7523973 ],\n",
       "       [ 9.89024731,  4.43627391],\n",
       "       [ 9.31382554,  3.57047556],\n",
       "       [ 8.99973042,  3.95713634],\n",
       "       [ 8.41395338,  9.68282569],\n",
       "       [ 7.89514515,  8.64528956],\n",
       "       [ 9.73080322,  9.40840712],\n",
       "       [ 8.77660484,  7.52933601],\n",
       "       [ 7.92604318,  3.26765507],\n",
       "       [ 7.76585574,  4.72145985],\n",
       "       [10.07751196,  8.38782745],\n",
       "       [ 9.33884909,  4.8793589 ],\n",
       "       [ 8.40479783,  7.38651313],\n",
       "       [ 8.22593756,  9.03167389],\n",
       "       [ 8.6244266 ,  7.37100967],\n",
       "       [ 8.77239866,  6.14605038],\n",
       "       [ 6.9118625 ,  8.59542371],\n",
       "       [ 8.69025156,  2.92313205],\n",
       "       [ 9.20739609,  4.83178265],\n",
       "       [ 7.01583064,  3.20772263],\n",
       "       [ 9.62266585,  5.28887696],\n",
       "       [ 8.14726874,  9.3571511 ],\n",
       "       [ 8.41381907,  8.69229677],\n",
       "       [ 9.64732531,  9.30172583],\n",
       "       [10.70194288,  5.66144733],\n",
       "       [ 8.600741  ,  8.18434103],\n",
       "       [ 7.3217006 ,  8.24161507],\n",
       "       [ 8.98209504,  9.30905868],\n",
       "       [ 8.88779634,  9.563835  ],\n",
       "       [ 7.93518492,  3.18648246],\n",
       "       [ 9.69915211,  4.84756392],\n",
       "       [ 8.35139961,  3.77967039],\n",
       "       [ 8.410316  ,  5.02922046],\n",
       "       [ 9.79829866,  4.48823949],\n",
       "       [ 9.36642775,  3.94438757],\n",
       "       [ 9.01905454,  8.02657645],\n",
       "       [ 9.85604296,  8.14217345],\n",
       "       [11.57763626,  3.85218249],\n",
       "       [10.0002882 ,  5.95530012],\n",
       "       [ 7.46620935,  2.10861813],\n",
       "       [ 7.7552258 ,  9.59495352],\n",
       "       [10.29412166,  8.35249469],\n",
       "       [10.78200998,  7.85649829],\n",
       "       [ 8.90173247,  8.0531116 ],\n",
       "       [ 8.8782591 ,  7.58283172],\n",
       "       [ 8.7707587 ,  5.05218178],\n",
       "       [ 9.97145979,  6.16606509],\n",
       "       [ 8.86836089,  4.40447781],\n",
       "       [ 7.61413055,  9.29710427],\n",
       "       [10.02222272,  4.34394367],\n",
       "       [ 8.35170191,  4.09649056],\n",
       "       [10.33563452,  8.66220857],\n",
       "       [ 7.69472164,  8.89501713],\n",
       "       [ 8.16695647,  9.0379402 ],\n",
       "       [ 9.93715107,  5.12328699],\n",
       "       [ 8.21068997,  4.9637149 ],\n",
       "       [ 8.32345491,  8.97500431],\n",
       "       [ 8.67683656,  2.58299601],\n",
       "       [ 8.21639599,  3.95549357],\n",
       "       [ 8.17653837,  7.85817314],\n",
       "       [ 7.63511132,  7.13792183],\n",
       "       [ 8.39408574,  8.2716825 ],\n",
       "       [ 9.41468114,  7.93710139],\n",
       "       [ 8.62276398,  4.09673851],\n",
       "       [ 8.66666916,  8.13605309],\n",
       "       [ 7.99997438,  4.99377503],\n",
       "       [ 9.33814923,  8.29083954],\n",
       "       [ 7.70130851,  8.23333478],\n",
       "       [ 8.55198652,  2.95148656],\n",
       "       [ 9.50191489,  7.94714722],\n",
       "       [ 8.7428572 ,  6.9068654 ],\n",
       "       [ 7.73831563,  6.97376731],\n",
       "       [ 7.68886116,  6.51771182],\n",
       "       [ 8.79262821,  3.41281089],\n",
       "       [ 9.37541007,  3.39730401],\n",
       "       [ 9.2485464 ,  8.51605671],\n",
       "       [10.41482166,  3.6096083 ],\n",
       "       [ 8.81652897,  4.95322422],\n",
       "       [ 6.1796246 ,  3.77736965],\n",
       "       [ 9.83927198,  5.51546577],\n",
       "       [10.87970833,  4.5814488 ],\n",
       "       [ 8.7262695 ,  7.09626764],\n",
       "       [ 7.93989559,  9.8492286 ],\n",
       "       [ 9.21757928,  4.49702476],\n",
       "       [ 8.17414425,  8.7474379 ],\n",
       "       [ 8.24413271,  9.98745556],\n",
       "       [ 9.0716746 ,  8.78011149],\n",
       "       [ 8.57543232,  6.36077146],\n",
       "       [10.02241126,  3.69601909],\n",
       "       [ 8.42053174,  2.56492705],\n",
       "       [10.58246825,  3.0426151 ],\n",
       "       [11.77514662,  4.91533432],\n",
       "       [ 7.83735093,  7.67506394],\n",
       "       [ 9.39726747,  7.93886975],\n",
       "       [ 9.16804223,  8.64900724],\n",
       "       [ 8.89419852,  8.97142368],\n",
       "       [ 9.08481905,  7.21995573],\n",
       "       [ 9.69611946,  3.84306902],\n",
       "       [ 9.62514196,  3.93383697],\n",
       "       [ 7.95106232,  6.98547873],\n",
       "       [ 9.08702304,  8.7863896 ],\n",
       "       [ 7.48598792,  6.78950206],\n",
       "       [ 9.69504993,  5.39958088],\n",
       "       [ 7.80286905,  8.03098192],\n",
       "       [ 8.02774556,  4.77665329],\n",
       "       [ 8.75287395,  5.33389313],\n",
       "       [ 8.72924078,  3.40652345],\n",
       "       [10.51291008,  4.94569567],\n",
       "       [ 9.54205324,  2.14945792],\n",
       "       [11.2340684 ,  2.96071496],\n",
       "       [ 9.00770053,  8.58465402],\n",
       "       [ 8.38684995,  7.66973248],\n",
       "       [ 9.95536639,  8.20050463],\n",
       "       [ 7.08017894, 10.23430794],\n",
       "       [ 9.19147518,  3.91356735],\n",
       "       [ 9.37338754,  2.97695533],\n",
       "       [ 9.99375286,  5.34161568],\n",
       "       [ 9.03535986,  7.80825478],\n",
       "       [ 9.15245247, 10.21970529],\n",
       "       [ 8.15697248, 10.74140488],\n",
       "       [ 6.21638266,  7.86848385],\n",
       "       [ 9.37798859,  4.23076254],\n",
       "       [ 8.60822084,  6.07334796],\n",
       "       [ 9.63924419,  7.01737495],\n",
       "       [10.90798497,  4.0204256 ],\n",
       "       [ 8.6717685 ,  6.90879694],\n",
       "       [11.13302854,  4.59035101],\n",
       "       [ 9.56094038,  6.88342169],\n",
       "       [ 9.75945067,  7.84893103],\n",
       "       [ 9.17991657,  8.45152714],\n",
       "       [ 9.11599424,  3.97288795],\n",
       "       [ 6.99364759,  3.86729908],\n",
       "       [ 8.68531238,  7.32025838]])"
      ]
     },
     "metadata": {},
     "output_type": "display_data"
    }
   ],
   "source": [
    "X, y = datasets.make_blobs(n_samples=200, centers=2, n_features=2, center_box=(0, 10))\n",
    "plt.plot(X[:, 0][y == 0], X[:, 1][y == 0], 'g^')\n",
    "plt.plot(X[:, 0][y == 1], X[:, 1][y == 1], 'bs')\n",
    "plt.show()\n",
    "display(X)"
   ]
  },
  {
   "cell_type": "markdown",
   "metadata": {},
   "source": []
  },
  {
   "cell_type": "code",
   "execution_count": 3,
   "metadata": {},
   "outputs": [],
   "source": [
    "data = np.column_stack((X,y))\n",
    "df = pd.DataFrame(data, columns = [\"X1\", \"X2\", \"Y\"])\n",
    "df.head\n",
    "df.to_csv('20sampletest.csv')"
   ]
  },
  {
   "cell_type": "markdown",
   "metadata": {},
   "source": [
    "Using the data to learn a classifier"
   ]
  },
  {
   "cell_type": "code",
   "execution_count": 4,
   "metadata": {},
   "outputs": [
    {
     "data": {
      "text/plain": [
       "0.945"
      ]
     },
     "execution_count": 4,
     "metadata": {},
     "output_type": "execute_result"
    }
   ],
   "source": [
    "clf = Perceptron(tol=1e-3, random_state=0)\n",
    "clf.fit(X, y)\n",
    "Perceptron()\n",
    "clf.score(X,y)"
   ]
  },
  {
   "cell_type": "code",
   "execution_count": 5,
   "metadata": {},
   "outputs": [
    {
     "data": {
      "text/plain": [
       "1.0"
      ]
     },
     "execution_count": 5,
     "metadata": {},
     "output_type": "execute_result"
    }
   ],
   "source": [
    "#load data\n",
    "df = pd.read_csv(\"20sample_d2.csv\", header = None) #I did not give the data any header\n",
    "X = df.loc[:,0:1] #the columns are unnamed\n",
    "y = df.loc[:,2]\n",
    "\n",
    "clf = Perceptron(tol=1e-3, random_state=0)\n",
    "clf.fit(X, y)\n",
    "Perceptron()\n",
    "clf.score(X,y)"
   ]
  },
  {
   "cell_type": "code",
   "execution_count": 2,
   "metadata": {},
   "outputs": [
    {
     "data": {
      "text/plain": [
       "70"
      ]
     },
     "metadata": {},
     "output_type": "display_data"
    }
   ],
   "source": [
    "from first_func2 import this_func\n",
    "result = this_func(20)\n",
    "display(result)"
   ]
  }
 ],
 "metadata": {
  "kernelspec": {
   "display_name": "Python 3",
   "language": "python",
   "name": "python3"
  },
  "language_info": {
   "codemirror_mode": {
    "name": "ipython",
    "version": 3
   },
   "file_extension": ".py",
   "mimetype": "text/x-python",
   "name": "python",
   "nbconvert_exporter": "python",
   "pygments_lexer": "ipython3",
   "version": "3.8.5"
  }
 },
 "nbformat": 4,
 "nbformat_minor": 2
}
